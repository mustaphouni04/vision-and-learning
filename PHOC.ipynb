{
 "cells": [
  {
   "cell_type": "markdown",
   "metadata": {},
   "source": [
    "# Reading characters on license plate"
   ]
  },
  {
   "cell_type": "markdown",
   "metadata": {},
   "source": [
    "### Initialization"
   ]
  },
  {
   "cell_type": "code",
   "execution_count": 2,
   "metadata": {},
   "outputs": [],
   "source": [
    "# Import packages\n",
    "import torch\n",
    "import torch.nn as nn\n",
    "import torchvision.models as models\n",
    "from PIL import Image\n",
    "from torchvision import transforms"
   ]
  },
  {
   "cell_type": "code",
   "execution_count": 3,
   "metadata": {},
   "outputs": [],
   "source": [
    "# Pipeline to prepare the images to feed the model\n",
    "\n",
    "# Define image size\n",
    "IMAGE_HEIGHT = 263 \n",
    "IMAGE_WIDTH = 800  \n",
    "\n",
    "# Define the transformations\n",
    "preprocess = transforms.Compose([\n",
    "    transforms.Resize((IMAGE_HEIGHT, IMAGE_WIDTH)),  # Resize image\n",
    "    transforms.ToTensor(),  # Convert image to a tensor\n",
    "    transforms.Normalize(mean=[0.485, 0.456, 0.406],  # Normalize with ImageNet mean\n",
    "                         std=[0.229, 0.224, 0.225])  # Normalize with ImageNet std\n",
    "])\n",
    "\n",
    "def process_img(img):\n",
    "    # Load the image\n",
    "    image = Image.open(img).convert('RGB')  # Ensure it's RGB\n",
    "\n",
    "    # Apply transformations\n",
    "    image_tensor = preprocess(image)\n",
    "\n",
    "    # Add a batch dimension (for a single image)\n",
    "    image_tensor = image_tensor.unsqueeze(0)  # Shape: [1, 3, 80, 224]\n",
    "\n",
    "    return image_tensor"
   ]
  },
  {
   "cell_type": "markdown",
   "metadata": {},
   "source": [
    "### Implement model"
   ]
  },
  {
   "cell_type": "code",
   "execution_count": 4,
   "metadata": {},
   "outputs": [],
   "source": [
    "# Usage of the pre-trained model VGG16\n",
    "\n",
    "# Define the number of classes and length of the license plate\n",
    "NUM_CLASSES = 36   # 26 letters + 10 digits for alphanumeric characters\n",
    "NUM_CHARACTERS = 7 # License plates have 7 characters\n",
    "\n",
    "# Load the pre-trained VGG16 model and freeze its earlier layers\n",
    "vgg16 = models.vgg16(weights='VGG16_Weights.DEFAULT')\n",
    "for param in vgg16.features.parameters():\n",
    "    param.requires_grad = False\n",
    "\n",
    "# Helper function to compute the flattened output size after passing through VGG16\n",
    "def get_flattened_size(input_height, input_width):    \n",
    "    dummy_input = torch.rand(1, 3, input_height, input_width)\n",
    "    with torch.no_grad():\n",
    "        features = vgg16.features(dummy_input)\n",
    "    flattened_size = features.view(1, -1).size(1)\n",
    "    return flattened_size\n",
    "\n",
    "# Get the flattened size for the given image dimensions\n",
    "flattened_size = get_flattened_size(IMAGE_HEIGHT, IMAGE_WIDTH)"
   ]
  },
  {
   "cell_type": "code",
   "execution_count": 6,
   "metadata": {},
   "outputs": [],
   "source": [
    "# Model\n",
    "\n",
    "class ReadPlate(nn.Module):\n",
    "    def __init__(self, flattened, num_characters, num_classes):\n",
    "        super(ReadPlate, self).__init__()\n",
    "        self.num_characters = num_characters\n",
    "        self.num_classes = num_classes\n",
    "        \n",
    "        # Use the pretrained VGG16 model up to the feature extractor        \n",
    "        self.vgg16_features = nn.Sequential(*list(vgg16.features.children()))\n",
    "        \n",
    "        # Fully connected layers after the VGG16 feature extraction\n",
    "        self.fc = nn.Sequential(\n",
    "            nn.Flatten(),\n",
    "            nn.Linear(flattened, 512),\n",
    "            nn.ReLU(),\n",
    "            nn.Linear(512, num_characters * num_classes),  # Predict all characters at once\n",
    "            nn.LogSoftmax(dim=1)\n",
    "        )        \n",
    "\n",
    "    def forward(self, x):\n",
    "        # Pass through VGG16 feature extractor\n",
    "        x = self.vgg16_features(x)\n",
    "        x = x.view(x.size(0), -1)  # Flatten\n",
    "        \n",
    "        # Pass through fully connected layers\n",
    "        x = self.fc(x)\n",
    "        \n",
    "        # Reshape output to (batch_size, num_characters, num_classes)\n",
    "        x = x.view(-1, self.num_characters, self.num_classes)        \n",
    "        return x  \n",
    "    \n",
    "\n",
    "model = ReadPlate(flattened=flattened_size, num_characters=NUM_CHARACTERS, num_classes=NUM_CLASSES)"
   ]
  },
  {
   "cell_type": "markdown",
   "metadata": {},
   "source": [
    "Source: https://github.com/ramyh08/Licence-Plate-recognition-CNN/tree/main"
   ]
  },
  {
   "cell_type": "markdown",
   "metadata": {},
   "source": [
    "### Inference"
   ]
  },
  {
   "cell_type": "code",
   "execution_count": 11,
   "metadata": {},
   "outputs": [
    {
     "name": "stdout",
     "output_type": "stream",
     "text": [
      "Predicted License Plate: ['WVXMKA7']\n"
     ]
    }
   ],
   "source": [
    "# Perform inference over an image\n",
    "\n",
    "img = 'C:/Users/User/Desktop/Assignatures/Vision and Learning/License Plate/vision-and-learning/P_G_12492604_01539.jpeg'\n",
    "img_tensor = process_img(img) \n",
    "model_output = model(img_tensor)\n",
    "\n",
    "characters = 'ABCDEFGHIJKLMNOPQRSTUVWXYZ0123456789'\n",
    "licenses = []\n",
    "\n",
    "for element in model_output:    \n",
    "    # Get the index of the highest probability class for each character\n",
    "    pred = torch.argmax(element, dim=1) \n",
    "    license_plate = ''\n",
    "\n",
    "    for character in pred:    \n",
    "        # Map the predicted class index to the corresponding character\n",
    "        predicted_character = characters[character.item()]          \n",
    "        license_plate += predicted_character \n",
    "    licenses.append(license_plate)\n",
    "\n",
    "print(f\"Predicted License Plate: {licenses}\")"
   ]
  }
 ],
 "metadata": {
  "kernelspec": {
   "display_name": "base",
   "language": "python",
   "name": "python3"
  },
  "language_info": {
   "codemirror_mode": {
    "name": "ipython",
    "version": 3
   },
   "file_extension": ".py",
   "mimetype": "text/x-python",
   "name": "python",
   "nbconvert_exporter": "python",
   "pygments_lexer": "ipython3",
   "version": "3.11.9"
  }
 },
 "nbformat": 4,
 "nbformat_minor": 2
}
