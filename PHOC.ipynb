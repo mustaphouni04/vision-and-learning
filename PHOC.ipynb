{
 "cells": [
  {
   "cell_type": "markdown",
   "metadata": {},
   "source": [
    "# Reading characters on license plate"
   ]
  },
  {
   "cell_type": "markdown",
   "metadata": {},
   "source": [
    "### Initialization"
   ]
  },
  {
   "cell_type": "code",
   "execution_count": 17,
   "metadata": {},
   "outputs": [],
   "source": [
    "# Import packages\n",
    "import torch\n",
    "import torch.nn as nn\n",
    "import torchvision.models as models\n",
    "from PIL import Image\n",
    "from torchvision import transforms\n",
    "import os\n",
    "from torch.utils.data import Dataset, DataLoader"
   ]
  },
  {
   "cell_type": "code",
   "execution_count": 23,
   "metadata": {},
   "outputs": [],
   "source": [
    "# Define image size and possible characters\n",
    "IMAGE_HEIGHT = 263 \n",
    "IMAGE_WIDTH = 800  \n",
    "TRAIN_DIR = ''\n",
    "TEST_DIR = ''\n",
    "CHARACTERS = 'ABCDEFGHIJKLMNOPQRSTUVWXYZ0123456789'\n",
    "NUM_CHARACTERS = 7 # License plates have 7 characters\n",
    "\n",
    "# Define the transformations\n",
    "transform = transforms.Compose([\n",
    "    transforms.Resize((IMAGE_HEIGHT, IMAGE_WIDTH)),  # Resize image\n",
    "    transforms.ToTensor(),  # Convert image to a tensor\n",
    "    transforms.Normalize(mean=[0.485, 0.456, 0.406], std=[0.229, 0.224, 0.225])  # Normalize with ImageNet mean and std\n",
    "])"
   ]
  },
  {
   "cell_type": "markdown",
   "metadata": {},
   "source": [
    "### Load data"
   ]
  },
  {
   "cell_type": "code",
   "execution_count": 19,
   "metadata": {},
   "outputs": [],
   "source": [
    "# Create a dataset class for our challenge\n",
    "class LicenseData(Dataset):\n",
    "    def __init__(self, image_dir, transform=None):\n",
    "        self.image_dir = image_dir\n",
    "        self.transform = transform        \n",
    "        # Read images from folder\n",
    "        self.image_files = [f for f in os.listdir(image_dir) if f.endswith(('.jpg', '.jpeg', '.png'))]        \n",
    "\n",
    "    def __len__(self):\n",
    "        return len(self.image_files)\n",
    "\n",
    "    def __getitem__(self, idx):\n",
    "        # Get the image file path\n",
    "        img_name = self.image_files[idx]\n",
    "        img_path = os.path.join(self.image_dir, img_name)\n",
    "\n",
    "        # Load the image\n",
    "        image = Image.open(img_path).convert('RGB')\n",
    "\n",
    "        # Apply the image transformations\n",
    "        if self.transform:\n",
    "            image = self.transform(image)\n",
    "\n",
    "        # Extract the license plate from the file name\n",
    "        license_plate = os.path.splitext(img_name)[0]\n",
    "\n",
    "        # Convert the license plate string to a list of integer indices\n",
    "        label_tensor = torch.tensor([CHARACTERS.index(c) for c in license_plate], dtype=torch.long)\n",
    "\n",
    "        return image, label_tensor"
   ]
  },
  {
   "cell_type": "code",
   "execution_count": null,
   "metadata": {},
   "outputs": [],
   "source": [
    "# Create dataset and dataloader\n",
    "trainset = LicenseData(image_dir=TRAIN_DIR, transform=transform)\n",
    "train_loader = DataLoader(trainset, batch_size=32, shuffle=True, num_workers=4)\n",
    "\n",
    "testset = LicenseData(image_dir=TEST_DIR, transform=transform)\n",
    "test_loader = DataLoader(testset, batch_size=32, shuffle=False, num_workers=4)"
   ]
  },
  {
   "cell_type": "markdown",
   "metadata": {},
   "source": [
    "### Implement model"
   ]
  },
  {
   "cell_type": "code",
   "execution_count": 24,
   "metadata": {},
   "outputs": [],
   "source": [
    "# Load the pre-trained VGG16 model and freeze its earlier layers\n",
    "vgg16 = models.vgg16(weights='VGG16_Weights.DEFAULT')\n",
    "for param in vgg16.features.parameters():\n",
    "    param.requires_grad = False\n",
    "\n",
    "# Helper function to compute the flattened output size after passing through VGG16\n",
    "def get_flattened_size(input_height, input_width):    \n",
    "    dummy_input = torch.rand(1, 3, input_height, input_width)\n",
    "    with torch.no_grad():\n",
    "        features = vgg16.features(dummy_input)\n",
    "    flattened_size = features.view(1, -1).size(1)\n",
    "    return flattened_size\n",
    "\n",
    "# Get the flattened size for the given image dimensions\n",
    "flattened_size = get_flattened_size(IMAGE_HEIGHT, IMAGE_WIDTH)"
   ]
  },
  {
   "cell_type": "code",
   "execution_count": 25,
   "metadata": {},
   "outputs": [],
   "source": [
    "# Model\n",
    "class ReadPlate(nn.Module):\n",
    "    def __init__(self, flattened, num_characters):\n",
    "        super(ReadPlate, self).__init__()\n",
    "        self.num_characters = num_characters        \n",
    "        \n",
    "        # Use the pretrained VGG16 model up to the feature extractor        \n",
    "        self.vgg16_features = nn.Sequential(*list(vgg16.features.children()))\n",
    "        \n",
    "        # Fully connected layers after the VGG16 feature extraction\n",
    "        self.fc = nn.Sequential(\n",
    "            nn.Flatten(),\n",
    "            nn.Linear(flattened, 512),\n",
    "            nn.ReLU(),\n",
    "            nn.Linear(512, num_characters * len(CHARACTERS)),  # Predict all characters at once            \n",
    "        )        \n",
    "\n",
    "    def forward(self, x):\n",
    "        # Pass through VGG16 feature extractor\n",
    "        x = self.vgg16_features(x)\n",
    "        x = x.view(x.size(0), -1)  # Flatten\n",
    "        \n",
    "        # Pass through fully connected layers\n",
    "        x = self.fc(x)\n",
    "        \n",
    "        # Reshape output to (batch_size, num_characters, num_classes)\n",
    "        x = x.view(-1, self.num_characters, len(CHARACTERS))        \n",
    "        return x"
   ]
  },
  {
   "cell_type": "markdown",
   "metadata": {},
   "source": [
    "Source: https://github.com/ramyh08/Licence-Plate-recognition-CNN/tree/main"
   ]
  },
  {
   "cell_type": "markdown",
   "metadata": {},
   "source": [
    "### Training"
   ]
  },
  {
   "cell_type": "code",
   "execution_count": null,
   "metadata": {},
   "outputs": [],
   "source": [
    "# Instantiate a model\n",
    "model = ReadPlate(flattened=flattened_size, num_characters=NUM_CHARACTERS)\n",
    "\n",
    "# Loss function: CrossEntropyLoss (expects raw logits, before applying softmax)\n",
    "criterion = nn.CrossEntropyLoss()\n",
    "\n",
    "# Optimizer: Adam optimizer for fine-tuning the final layers\n",
    "optimizer = torch.optim.Adam(model.parameters(), lr=0.001)"
   ]
  },
  {
   "cell_type": "code",
   "execution_count": null,
   "metadata": {},
   "outputs": [],
   "source": [
    "# Training loop\n",
    "def train(model, dataloader, criterion, optimizer, num_epochs=10, device='cpu'):\n",
    "    model = model.to(device)\n",
    "    model.train()  # Set model to training mode\n",
    "\n",
    "    for epoch in range(num_epochs):\n",
    "        running_loss = 0.0\n",
    "        for images, labels in dataloader:\n",
    "            images = images.to(device)\n",
    "            labels = labels.to(device)  # Shape: [batch_size, num_characters]\n",
    "\n",
    "            # Forward pass\n",
    "            optimizer.zero_grad()\n",
    "            outputs = model(images)  # Shape: [batch_size, num_characters, num_classes]\n",
    "\n",
    "            # Reshape the output and labels\n",
    "            outputs = outputs.view(-1, len(CHARACTERS)) # Shape: [batch_size * num_characters, num_classes]\n",
    "            labels = labels.view(-1) # Shape: [batch_size * num_characters]\n",
    "\n",
    "            # Compute the loss\n",
    "            loss = criterion(outputs, labels)\n",
    "\n",
    "            # Backpropagation and optimization\n",
    "            loss.backward()\n",
    "            optimizer.step()\n",
    "\n",
    "            running_loss += loss.item()\n",
    "\n",
    "        print(f'Epoch [{epoch+1}/{num_epochs}], Loss: {running_loss/len(dataloader):.4f}')"
   ]
  },
  {
   "cell_type": "markdown",
   "metadata": {},
   "source": [
    "### Testing"
   ]
  },
  {
   "cell_type": "code",
   "execution_count": null,
   "metadata": {},
   "outputs": [],
   "source": [
    "def validate(model, dataloader, criterion, device='cpu'):\n",
    "    model = model.to(device)\n",
    "    model.eval()  # Set model to evaluation mode\n",
    "    validation_loss = 0.0\n",
    "    correct = 0\n",
    "    total = 0\n",
    "\n",
    "    with torch.no_grad():\n",
    "        for images, labels in dataloader:\n",
    "            images = images.to(device)\n",
    "            labels = labels.to(device)\n",
    "\n",
    "            outputs = model(images)\n",
    "\n",
    "            # Reshape the output and labels\n",
    "            outputs = outputs.view(-1, len(CHARACTERS))\n",
    "            labels = labels.view(-1)\n",
    "\n",
    "            # Compute the loss\n",
    "            loss = criterion(outputs, labels)\n",
    "            validation_loss += loss.item()\n",
    "\n",
    "            # Compute accuracy\n",
    "            _, predicted = torch.max(outputs, 1)\n",
    "            total += labels.size(0)\n",
    "            correct += (predicted == labels).sum().item()\n",
    "\n",
    "    accuracy = 100 * correct / total\n",
    "    print(f'Validation Loss: {validation_loss/len(dataloader):.4f}, Accuracy: {accuracy:.2f}%')\n",
    "    return accuracy"
   ]
  },
  {
   "cell_type": "markdown",
   "metadata": {},
   "source": [
    "### Inference"
   ]
  },
  {
   "cell_type": "code",
   "execution_count": null,
   "metadata": {},
   "outputs": [],
   "source": [
    "def process_img(img_path):\n",
    "    # Load and preprocess the image\n",
    "    image = Image.open(img_path).convert('RGB') \n",
    "    image_tensor = transform(image)\n",
    "    image_tensor = image_tensor.unsqueeze(0)  # Add a batch dimension\n",
    "    return image_tensor\n",
    "\n",
    "def predict_license_plate(model, image_tensor):\n",
    "    # Set the model to evaluation mode\n",
    "    model.eval()\n",
    "    \n",
    "    # Perform inference\n",
    "    with torch.no_grad():\n",
    "        outputs = model(image_tensor)  # Output shape: [1, num_characters, num_classes]    \n",
    "    \n",
    "    outputs = outputs.view(-1, len(CHARACTERS))  # Shape: [num_characters, num_classes]\n",
    "    \n",
    "    # Get predictions by taking argmax across the class dimension\n",
    "    _, predicted_indices = torch.max(outputs, dim=1)\n",
    "    \n",
    "    # Map the indices to characters    \n",
    "    license_plate = ''.join([CHARACTERS[idx.item()] for idx in predicted_indices])\n",
    "    \n",
    "    return license_plate"
   ]
  },
  {
   "cell_type": "code",
   "execution_count": 11,
   "metadata": {},
   "outputs": [
    {
     "name": "stdout",
     "output_type": "stream",
     "text": [
      "Predicted License Plate: ['WVXMKA7']\n"
     ]
    }
   ],
   "source": [
    "# Perform inference over an image\n",
    "\n",
    "img = 'C:/Users/User/Desktop/Assignatures/Vision and Learning/License Plate/vision-and-learning/P_G_12492604_01539.jpeg'\n",
    "img_tensor = process_img(img) \n",
    "model_output = model(img_tensor)\n",
    "\n",
    "characters = 'ABCDEFGHIJKLMNOPQRSTUVWXYZ0123456789'\n",
    "licenses = []\n",
    "\n",
    "for element in model_output:    \n",
    "    # Get the index of the highest probability class for each character\n",
    "    pred = torch.argmax(element, dim=1) \n",
    "    license_plate = ''\n",
    "\n",
    "    for character in pred:    \n",
    "        # Map the predicted class index to the corresponding character\n",
    "        predicted_character = characters[character.item()]          \n",
    "        license_plate += predicted_character \n",
    "    licenses.append(license_plate)\n",
    "\n",
    "print(f\"Predicted License Plate: {licenses}\")"
   ]
  },
  {
   "cell_type": "markdown",
   "metadata": {},
   "source": [
    "## Main"
   ]
  },
  {
   "cell_type": "code",
   "execution_count": null,
   "metadata": {},
   "outputs": [],
   "source": [
    "# Start training\n",
    "train(model, train_loader, criterion, optimizer, num_epochs=10)"
   ]
  },
  {
   "cell_type": "code",
   "execution_count": null,
   "metadata": {},
   "outputs": [],
   "source": [
    "# Start testing\n",
    "accuracy = validate(model, test_loader, criterion)"
   ]
  },
  {
   "cell_type": "code",
   "execution_count": null,
   "metadata": {},
   "outputs": [],
   "source": [
    "# Start inference\n",
    "img_path = 'C:/Users/User/Desktop/Assignatures/Vision and Learning/License Plate/vision-and-learning/P_G_12492604_01539.jpeg'\n",
    "model = ReadPlate(flattened=flattened_size, num_characters=NUM_CHARACTERS)\n",
    "\n",
    "# Load the model weights if you have saved them\n",
    "# model.load_state_dict(torch.load('path_to_your_saved_model.pth'))\n",
    "\n",
    "image_tensor = process_img(img_path)\n",
    "license_plate = predict_license_plate(model, image_tensor)\n",
    "\n",
    "print(f\"Predicted License Plate: {license_plate}\")"
   ]
  }
 ],
 "metadata": {
  "kernelspec": {
   "display_name": "base",
   "language": "python",
   "name": "python3"
  },
  "language_info": {
   "codemirror_mode": {
    "name": "ipython",
    "version": 3
   },
   "file_extension": ".py",
   "mimetype": "text/x-python",
   "name": "python",
   "nbconvert_exporter": "python",
   "pygments_lexer": "ipython3",
   "version": "3.11.9"
  }
 },
 "nbformat": 4,
 "nbformat_minor": 2
}
