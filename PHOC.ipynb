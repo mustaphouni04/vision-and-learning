{
 "cells": [
  {
   "cell_type": "code",
   "execution_count": 5,
   "metadata": {},
   "outputs": [],
   "source": [
    "import torch\n",
    "import torch.nn as nn\n",
    "import torchvision.models as models"
   ]
  },
  {
   "cell_type": "code",
   "execution_count": 7,
   "metadata": {},
   "outputs": [],
   "source": [
    "# Define the image size and the number of classes\n",
    "IMAGE_HEIGHT = 480 \n",
    "IMAGE_WIDTH = 640  \n",
    "NUM_CLASSES = 36   # 26 letters + 10 digits for alphanumeric characters\n",
    "NUM_CHARACTERS = 7 # Assuming license plates have 7 characters\n",
    "\n",
    "\n",
    "# Load the pre-trained VGG16 model and freeze its earlier layers\n",
    "vgg16 = models.vgg16(weights='VGG16_Weights.DEFAULT')\n",
    "for param in vgg16.features.parameters():\n",
    "    param.requires_grad = False\n",
    "\n",
    "\n",
    "# Helper function to compute the flattened output size after passing through VGG16\n",
    "def get_flattened_size(input_height, input_width):    \n",
    "    dummy_input = torch.rand(1, 3, input_height, input_width)\n",
    "    with torch.no_grad():\n",
    "        features = vgg16.features(dummy_input)\n",
    "    flattened_size = features.view(1, -1).size(1)\n",
    "    return flattened_size\n",
    "\n",
    "# Get the flattened size for the given image dimensions\n",
    "flattened_size = get_flattened_size(IMAGE_HEIGHT, IMAGE_WIDTH)"
   ]
  },
  {
   "cell_type": "code",
   "execution_count": 9,
   "metadata": {},
   "outputs": [],
   "source": [
    "class ReadPlate(nn.Module):\n",
    "    def __init__(self, flattened, num_characters, num_classes):\n",
    "        super(ReadPlate, self).__init__()\n",
    "        # Use the pretrained VGG16 model up to the feature extractor\n",
    "        self.vgg16_features = nn.Sequential(*list(vgg16.features.children()))\n",
    "        \n",
    "        # Custom classifier for each character in the license plate (7 outputs for a 7-character plate)\n",
    "        self.classifiers = nn.ModuleList([\n",
    "            nn.Sequential(\n",
    "                nn.Flatten(),\n",
    "                nn.Linear(flattened, 128),\n",
    "                nn.ReLU(),\n",
    "                nn.Linear(128, 128),\n",
    "                nn.ReLU(),\n",
    "                nn.Linear(128, num_classes),  # Each character output (36 classes for digits and letters)\n",
    "                nn.LogSoftmax(dim=1) \n",
    "            ) for _ in range(num_characters) # Create a different classifier for each character\n",
    "        ])\n",
    "\n",
    "    def forward(self, x):\n",
    "        x = self.vgg16_features(x)  # Pass through VGG16 feature extractor\n",
    "        x = x.view(x.size(0), -1)   # Flatten the output\n",
    "        \n",
    "        # Pass them through each classifier for each character in the license plate\n",
    "        outputs = [classifier(x) for classifier in self.classifiers]        \n",
    "        return outputs\n",
    "\n",
    "# Instantiate the model (7 characters, 36 possible classes)\n",
    "model = ReadPlate(flattened=flattened_size, num_characters=NUM_CHARACTERS, num_classes=NUM_CLASSES)"
   ]
  },
  {
   "cell_type": "code",
   "execution_count": null,
   "metadata": {},
   "outputs": [],
   "source": [
    "# model_output is the list of tensors produced by the model\n",
    "model_output = model(some_input_image)\n",
    "\n",
    "# Define a lookup table for characters\n",
    "characters = 'ABCDEFGHIJKLMNOPQRSTUVWXYZ0123456789'\n",
    "\n",
    "# Initialize an empty string to hold the license plate result\n",
    "license_plate = ''\n",
    "\n",
    "# Obtain each character of the license plate\n",
    "for char_output in model_output:    \n",
    "    # Get the index of the highest probability class\n",
    "    predicted_class = torch.argmax(char_output, dim=1) \n",
    "    \n",
    "    # Map the predicted class index to the corresponding character\n",
    "    predicted_character = characters[predicted_class.item()]    \n",
    "    \n",
    "    license_plate += predicted_character # Write the license plate\n",
    "\n",
    "# Now 'license_plate' holds the predicted license plate string\n",
    "print(f\"Predicted License Plate: {license_plate}\")"
   ]
  }
 ],
 "metadata": {
  "kernelspec": {
   "display_name": "base",
   "language": "python",
   "name": "python3"
  },
  "language_info": {
   "codemirror_mode": {
    "name": "ipython",
    "version": 3
   },
   "file_extension": ".py",
   "mimetype": "text/x-python",
   "name": "python",
   "nbconvert_exporter": "python",
   "pygments_lexer": "ipython3",
   "version": "3.11.9"
  }
 },
 "nbformat": 4,
 "nbformat_minor": 2
}
